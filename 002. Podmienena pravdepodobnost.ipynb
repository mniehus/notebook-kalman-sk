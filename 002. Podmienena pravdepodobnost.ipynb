{
 "cells": [
  {
   "cell_type": "markdown",
   "metadata": {},
   "source": [
    "# Nezávislé náhodné premenné\n",
    "\n",
    "Hodnoty niekoľkých štatisticky nezávislých premenných môžeme pokladať za špeciálny prípad reprezentácie n-rozmernej náhodnej premennej vo vektorovom tvare. Pre ilustráciu určime pravdepodobnosť, kedy pri hode dvoch kociek padne rovnaká hodnota.\n",
    "\n",
    "Náhodná premenná X môže mať hodnoty\n",
    "\n",
    "\\begin{equation}\n",
    "X = \\{ [1,1], [1,2] \\dots [1,6], [2,1], [2,2], \\dots [6,5], [6,6] \\}\n",
    "\\end{equation}\n",
    "\n",
    "Celkový počet hodnôt $m = 36$, hladáme pravdepodobnosť výskytu stavov $w = \\{[1,1], \\, \\dots \\, [6,6] \\}$. Pretože obe kocky sú vzájomne od seba nezávislé, pravdepodobnosť hodu rovnakej hodnoty na oboch kockách súčasne je súčinom pravdepodobnosti hodu hodnoty na každej kocke  \n",
    "\n",
    "\\begin{equation}\n",
    "P(w) = P([1,1]) + \\dots + P([6,6]) = P(1) \\, P(1) + \\dots + P(6) \\, P(6) =  6 \\times \\left( \\frac{1} {6} \\times \\frac{1} {6} \\right)= 0.1666\n",
    "\\end{equation}\n"
   ]
  },
  {
   "cell_type": "code",
   "execution_count": 19,
   "metadata": {},
   "outputs": [
    {
     "name": "stdout",
     "output_type": "stream",
     "text": [
      "P(q) =  0.1654\n"
     ]
    }
   ],
   "source": [
    "# Priklad - Simulacia hodu dvoma kockami\n",
    "\n",
    "%reset -f  \n",
    "%matplotlib inline\n",
    "\n",
    "import numpy as np\n",
    "from numpy.random import randint\n",
    "import matplotlib.pyplot as plt\n",
    "\n",
    "m = 10000                    # pocet sucasnych hodov   \n",
    "q = 0                        # pocetnost vyskytu sledovaneho javu\n",
    "X = randint(1, 7, size=m)    # kocka c. 1, nahodna premenna X\n",
    "Y = randint(1, 7, size=m)    # kocka c. 2, nahodna premenna Y\n",
    "for i in range(m):\n",
    "    if X[i] == Y[i]:\n",
    "        q+=1\n",
    "\n",
    "print('P(q) = ', float(q)/m)"
   ]
  },
  {
   "cell_type": "markdown",
   "metadata": {},
   "source": [
    "# Závislé náhodné premenné\n",
    "\n",
    "Predpokladajme, že máme krabicu, v ktorej sa vyskytujú rezistory rôznych hodnôt a s rôznym výkonovým zaťažením. Celkový počet všetkých rezistorov v krabici je 1000 a ich početnosti pre hodnoty a zaťaženie sú v nasledujúcej tabuľke.\n",
    "\n",
    "\n",
    "|             |     1 Ohm  |    10 Ohm |    100 Ohm |  1000 Ohm |<b>Spolu</b> |\n",
    "|-------------|------------|-----------|------------|-----------|-------------|\n",
    "| <b>1 W</b>  |         50 |      300  |         90 |        0  |  <b>440</b> |\n",
    "| <b>2 W</b>  |         50 |       50  |          0 |      100  |  <b>200</b> |\n",
    "| <b>5 W</b>  |          0 |      150  |         60 |      150  |  <b>360</b> |\n",
    "| <b>Spolu</b>| <b>100</b> | <b>500</b>| <b>150</b> | <b>250</b>| <b>1000</b> |\n",
    "\n",
    "\n",
    "Pravdepodobnosť, že z krabice vytiahneme rezistor s nejakou hodnotou odporu je\n",
    "\n",
    "\\begin{equation}\n",
    "P(1 \\, \\Omega) = \\frac{100} {1000} = 0.1\n",
    "\\end{equation}\n",
    "\n",
    "\\begin{equation}\n",
    "P(10 \\, \\Omega) = \\frac{500} {1000} = 0.5\n",
    "\\end{equation}\n",
    "\n",
    "\\begin{equation}\n",
    "P(100 \\, \\Omega) = \\frac{150} {1000} = 0.15\n",
    "\\end{equation}\n",
    "\n",
    "\\begin{equation}\n",
    "P(1000 \\, \\Omega) = \\frac{250} {1000} = 0.25\n",
    "\\end{equation}\n",
    "\n",
    "Podobne pravdepodobnosť, že vytiahneme rezistor s nejakou hodnotou výkonového zaťaženie je\n",
    "\n",
    "\\begin{equation}\n",
    "P(1 \\, W) = \\frac{440} {1000} = 0.44\n",
    "\\end{equation}\n",
    "\n",
    "\\begin{equation}\n",
    "P(2 \\, W) = \\frac{200} {1000} = 0.2\n",
    "\\end{equation}\n",
    "\n",
    "\\begin{equation}\n",
    "P(5 \\, W) = \\frac{360} {1000} = 0.36\n",
    "\\end{equation}\n",
    "\n",
    "Skúmajme, s akou pravdepodobnosťou vyberieme z krabice rezistor s hodnotou 10 Ohm a zaťažením 5 W. Z tabuľky vyplýva, že takýchto rezistorov je v krabici 150, takže pravdepodobnosť je \n",
    "\n",
    "\\begin{equation}\n",
    "P(10 \\,\\Omega, 5 \\, W) = \\frac{150} {1000} = 0.15\n",
    "\\end{equation}\n",
    "\n",
    "Je dôležité si uvedomiť, že hodnoty rezistorov a výkonového zaťaženie <b>nie sú štatisticky nezávislé</b>. Ak by boli štatisticky nezávislé, tak pravdepodobnosť výskytu rezistoru s hodnotou 10 Ohm a zaťažením 5 W by sme mohli vypočítať ako\n",
    "\n",
    "\\begin{equation}\n",
    "P(10 \\,\\Omega, 5 \\, W) = P(10 \\,\\Omega) \\, P(5 \\, W) = 0.5 \\times 0.36 = 0.18 \\neq 0.15\n",
    "\\end{equation}"
   ]
  },
  {
   "cell_type": "markdown",
   "metadata": {},
   "source": [
    "Pre štatisticky závislé náhodné premenné je potrebné definovať koncept <b>podmienenej pravdepodobnosti</b> (<i>conditional probability</i>), ktorá definuje pravdepodobnosť javu $A$, ak už nastal jav $B$, označuje sa ako $P (A | B)$.\n",
    "\n",
    "V našej krabici máme spolu 360 rezistorov, ktoré sú na zaťaženie 5W, z týchto má 150 hodnotu 10 Ohm. Podmienená pravdepodobnosť výberu hodnoty 10 Ohm je\n",
    "\n",
    "\\begin{equation}\n",
    "P(10 \\,\\Omega \\, | \\, 5 \\, W) = \\frac {150} {360} = 0.417\n",
    "\\end{equation}\n",
    "\n",
    "Ak chceme poznať pravdepodobnosť výberu takéhoto rezistora z celej krabice, musíme ešte hodnotu podmienej pravdepodobnosti vynásobiť pravdepodobnosťou výberu (nejakého) rezistoru so zaťažením 5W z krabice, toto označujeme ako <b>okrajovú pravdepodobnosť</b> (<i>marginal probability</i>)\n",
    "\n",
    "\\begin{equation}\n",
    "P(10 \\,\\Omega \\, | \\, 5 \\, W) \\, P(5 \\, W) = 0.417 \\times 0.36 = 0.15 = P(10 \\,\\Omega, \\, 5 \\, W)\n",
    "\\end{equation}\n",
    "\n"
   ]
  },
  {
   "cell_type": "markdown",
   "metadata": {},
   "source": [
    "# Podmienená pravdepodobnosť\n",
    "\n",
    "Vyššie uvedené môžeme prepísať vo všeobecnom tvare\n",
    "\n",
    "\\begin{equation}\n",
    "P(A, B) = P(A \\, | \\, B) \\, P(B) = P(B \\, | \\, A) \\, P(A)\n",
    "\\end{equation}\n",
    "\n",
    "Ak udalosť $A$ nezávisí od udalosti $B$, podmienená pravdepodobnosť má tvar\n",
    "\n",
    "\\begin{equation}\n",
    "P(A \\, | \\, B) = P(A)\n",
    "\\end{equation}\n",
    "\n",
    "alebo v opačnom prípade\n",
    "\n",
    "\\begin{equation}\n",
    "P(B \\, | \\, A) = P(B)\n",
    "\\end{equation}\n",
    "\n",
    "Potom dosadením do vzťahu vyššie obdržime vzťah pre pravdepodobnosť výskytu stavu v prípade štatisticky nezávislých náhodných premenných (použitý na začiatku kapitoly) ako súčin okrajových pravdepodobností\n",
    "\n",
    "\\begin{equation}\n",
    "P(A, B) = P(A) \\, P(B)\n",
    "\\end{equation}\n",
    "\n",
    "\n",
    "### Príklad\n",
    "\n",
    "Vyššie uvedený koncept môžeme rozšíriť o pojmy z teórie množín. Ak máme náhodnú premennú, v ktorej sa môžu vyskytovať javy $A$ a $B$ s pravdepodobnosťami $P(A)$ a $P(B)$, pričom $P(B) \\neq 0$, potom o podmienenej pravdepodobnosti hovoríme vtedy, ak hladáme pravdepodobnosť výskytu udalosti $A$, ak nastala udalosť $B$.\n",
    "\n",
    "\n",
    "\\begin{equation}\n",
    "P(A | B) = \\frac{P (A \\cap B)} {P(B)} \n",
    "\\end{equation}\n",
    "\n",
    "Určime pravdepodobnosť, že ak na kocke padne párne číslo (udalosť $B$), tak toto číslo bude 4 (udalosť $A$). \n",
    "\n",
    "Pravdepodobnosť udalosti $B$ je\n",
    "\n",
    "\\begin{equation}\n",
    "P(B) = \\frac { \\{ 2,4,6 \\} } { \\{ 1,2,3,4,5,6 \\} } = \\frac {1}{2}\n",
    "\\end{equation}\n",
    "\n",
    "Pravdepodobnosť udalosti $A$ je\n",
    "\n",
    "\\begin{equation}\n",
    "P(A) = \\frac { \\{ 4 \\} } { \\{ 1,2,3,4,5,6 \\} } = \\frac {1}{6}\n",
    "\\end{equation}\n",
    "\n",
    "Prienik $P (A \\cap B)$ má hodnotu \n",
    "\n",
    "\\begin{equation}\n",
    "P (A \\cap B) = \\frac { \\{ 2, 4, 6 \\} } { \\{ 1,2,3,4,5,6 \\} }  \\cap  \\frac { \\{ 4 \\} } { \\{ 1,2,3,4,5,6 \\} } = \\frac { \\{ 4 \\} }{ \\{ 1,2,3,4,5,6 \\} } = \\frac{1}{6}\n",
    "\\end{equation}\n",
    "\n",
    "Potom \n",
    "\n",
    "\\begin{equation}\n",
    "P(A | B) = \\frac{P (A \\cap B)} {P(B)} = \\frac {1/6} {1/2} = 1/3\n",
    "\\end{equation}"
   ]
  },
  {
   "cell_type": "code",
   "execution_count": 21,
   "metadata": {},
   "outputs": [
    {
     "name": "stdout",
     "output_type": "stream",
     "text": [
      "P(A|B) =  0.3290960451977401\n"
     ]
    }
   ],
   "source": [
    "m = 10000                    # pocet hodov kocky  \n",
    "A = 0                        # pocetnost udalosti A\n",
    "B = 0                        # pocetnost udalosti B\n",
    "X = randint(1, 7, size=m)    # nahodna premenna X\n",
    "for i in range(m):\n",
    "    if X[i] in [2,4,6]:\n",
    "        B+=1\n",
    "        if X[i]== 4:\n",
    "            A+=1\n",
    "\n",
    "print('P(A|B) = ', float(A)/B)"
   ]
  },
  {
   "cell_type": "markdown",
   "metadata": {},
   "source": [
    "### Literatúra\n",
    "\n",
    "Dokumentácia k štatistickým funkciám Numpy\n",
    "\n",
    "https://docs.scipy.org/doc/numpy-1.14.0/reference/routines.statistics.html"
   ]
  }
 ],
 "metadata": {
  "kernelspec": {
   "display_name": "Python 3",
   "language": "python",
   "name": "python3"
  },
  "language_info": {
   "codemirror_mode": {
    "name": "ipython",
    "version": 3
   },
   "file_extension": ".py",
   "mimetype": "text/x-python",
   "name": "python",
   "nbconvert_exporter": "python",
   "pygments_lexer": "ipython3",
   "version": "3.5.2"
  }
 },
 "nbformat": 4,
 "nbformat_minor": 2
}
