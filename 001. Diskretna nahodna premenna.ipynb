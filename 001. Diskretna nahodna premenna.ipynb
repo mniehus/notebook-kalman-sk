{
 "cells": [
  {
   "cell_type": "markdown",
   "metadata": {},
   "source": [
    "# Jednorozmerná diskrétna náhodná premenná\n",
    "\n",
    "Predpokladajme, že máme konečnú postupnosť $X$, ktorá obsahuje $m$ vzoriek s náhodnými hodnotami, $X=\\{X_1, X_2,\\, \\dots  \\, X_k, \\, \\dots \\, X_m\\}$. Hodnoty vzoriek môžeme získať z nejakého vhodného náhodného procesu, napr. hádzaním mince, kocky, čísla v rulete a podobne.  \n",
    "\n",
    "Hodnota ľubovolnej vzorky postupnosti $X$ patrí do rozsahu hodnôt, ktorý je daný $n$ diskrétnymi hodnotami $x = \\{ x_0, x_1, \\, \\dots \\, x_i, \\, \\dots \\, x_n \\} $. Početnosti výskytu týchto hodnôt (t.j. koľko vzoriek s hodnotou $x_i$ sa nachádza v postupnosti $X$) je popísaný hodnotami $q = \\{ q_0, q_1, \\, \\dots \\, q_i, \\, \\dots \\, q_n \\} $, pričom je zrejmé, že\n",
    "\n",
    "\\begin{equation}\n",
    "q_0 + q_1 +  \\dots + q_i + \\dots + q_n = m\n",
    "\\end{equation}\n",
    "\n",
    "Relatívna frekvencia $r(x_i)$ výskytu vzoriek s hodnotou $x_i$ v postupnosti $X$ je určená ako\n",
    "\n",
    "\\begin{equation}\n",
    "r (x_i)  = \\frac{q_i}{m}  \n",
    "\\end{equation}\n",
    "\n",
    "Je zrejmé, že platí\n",
    "\n",
    "\\begin{equation}\n",
    "r(x_0) + r(x_1) +  \\dots + r(x_i) + \\dots + r(x_n) = 1\n",
    "\\end{equation}\n",
    "\n",
    "Predpokladajme, že budeme postupne zvyšovať počet členov postupnosti $X$. Ak postupnosť pri zvyšovaní počtu vzoriek nezmení svoju podstatu, pri ich dostatočne veľkom počte bude mať $r(x_i)$ snahu konvergovať k nejakej numerickej hodnote, tento jav je známy ako <i>statistical regularity</i>. Pre veľmi veľký počet vzoriek takáto hodnota definuje pravdepodobnosť $P(x_i)$  výskytu hodnoty $x_i$ v postupnosti $X$\n",
    "\n",
    "\\begin{equation}\n",
    "P(x_i)  = \\lim_{m \\to \\infty} r(x_i) =  \\lim_{m \\to \\infty} \\frac{q_i}{m}  \n",
    "\\end{equation} \n",
    "\n",
    "Postupnosť $X$, ktorú vieme popísať hodnotami $P(X) = \\{ P(x_0), P(x_1), \\, \\dots \\, P(x_i), \\, \\dots \\, P(x_n) \\} $ potom môžeme pokladať za náhodnú premennú s diskrétnym rozložením hodnôt. $P(X)$ potom definuje rozdelenie hodnôt pravdepodobnosti premennej $X$.\n"
   ]
  },
  {
   "cell_type": "code",
   "execution_count": 1,
   "metadata": {},
   "outputs": [
    {
     "name": "stdout",
     "output_type": "stream",
     "text": [
      "  X  =  [5 3 2 1 2 2 3 0 2 2 0 5 1 4 1 0 3 0 1 3 4 0 0 5 4 3 5 1 0 1]\n",
      "  xi =  3\n",
      "  qi =  5\n",
      "r(3) =  0.167\n"
     ]
    },
    {
     "data": {
      "image/png": "[encoded data removed]",
      "text/plain": [
       "<matplotlib.figure.Figure at 0x7f7695303a90>"
      ]
     },
     "metadata": {},
     "output_type": "display_data"
    }
   ],
   "source": [
    "%reset -f  \n",
    "%matplotlib inline\n",
    "\n",
    "import numpy as np\n",
    "from numpy.random import randint\n",
    "import matplotlib.pyplot as plt\n",
    "\n",
    "# Priklad - Zobrazenie nahodnej premennej, vypocet relativnej frekvencie r(xi)\n",
    "\n",
    "m = 30                   # pocet vzoriek X   \n",
    "X = randint(6, size=m)   # vytvorenie pola X, int hodnoty z rozsahu 0...5 (rovnomerne rozdelenie)\n",
    "xi = 3                   # zvolena hodnota nahodnej premennej\n",
    "qi = sum(X==xi)          # vypocet pocetnosti vyskytu xi\n",
    "ri = qi / m              # vypocet pravdepodobnosti r(xi)\n",
    "\n",
    "print('  X  = ', X)\n",
    "print('  xi = ', xi)\n",
    "print('  qi = ', qi)\n",
    "print('r({0:1d}) =  {1:0.3f}'.format(xi, ri))\n",
    "\n",
    "plt.plot(X, 'ro')\n",
    "plt.xlabel(r'$k$')\n",
    "plt.ylabel(r'$x$')\n",
    "plt.ylim(0,6)\n",
    "plt.grid()\n",
    "plt.show()"
   ]
  },
  {
   "cell_type": "markdown",
   "metadata": {},
   "source": [
    "Pre rozdelenie pravdepodobností $P(X)$ platia triviálne vzťahy\n",
    "\n",
    "\\begin{equation}\n",
    "0 \\leq P(x_i) \\leq 1\n",
    "\\end{equation}\n",
    "\n",
    "\\begin{equation}\n",
    "P(x_0) + P(x_1) + \\dots + P(x_i) + \\dots + P(x_n) = \\sum_{i=1}^n P(x_i) = 1\n",
    "\\end{equation}\n",
    "\n",
    "Ak sa v postupnosti $X$ nevyskytuje vzorka s hodnotou $a$, potom\n",
    "\n",
    "\\begin{equation}\n",
    "P(a) = 0\n",
    "\\end{equation}\n",
    "\n",
    "Ak všetky vzorky v postupnosti $X$ majú hodnotu $b$, potom \n",
    "\n",
    "\\begin{equation}\n",
    "P(b) = 1\n",
    "\\end{equation}\n",
    "\n",
    "Pravdepodobnosť, že sa hodnota premennej $X$ leží v intervale hodnôt $<a,b>$ je \n",
    "\n",
    "\n",
    "\\begin{equation}\n",
    "P[a \\leq X \\leq b] = \\sum_{x=a}^b P(x)\n",
    "\\end{equation}\n",
    "\n",
    "\n",
    "## Stredná hodnota, rozptyl a štandardná odchýlka"
   ]
  },
  {
   "cell_type": "markdown",
   "metadata": {},
   "source": [
    "Charakteristickou vlastnosťou náhodnej premennej je jej stredná hodnota $E[X]$ (v literatúre označovaná aj ako <i>mean</i>, <i>excepted value</i>), štandardne označovaná aj ako $\\mu$. Pre túto  môžeme písať \n",
    "\n",
    "\\begin{equation}\n",
    "\\mu = E[X] = \\frac{1}{m} \\sum_{i=1}^n q_i \\, x_i = \\sum_{i=1}^n P(x_i) \\, x_i \n",
    "\\end{equation}\n",
    "\n",
    "V literatúre sa používajú pre označenie strednej hodnoty aj symboly $\\mathbb{E}[X]$, $E(X)$, $E(x)$, $\\overline{X}$, $\\overline{x}$\n",
    "\n",
    "Označenie $E[X]$ môžeme pokladať aj za operátor nad premennou $X$, t.j. násobenie vzoriek argumentu operátora s pravdepodobnosťou ich výskytu a následnou sumáciou, napr.\n",
    "\n",
    "\\begin{equation}\n",
    "E[Y + a] = \\frac{1}{m} \\sum_{i=1}^n q_i \\, (y_i + a) = \\sum_{i=1}^n P(y_i) \\, (y_i + a) = \\sum_{i=1}^n P(y_i) \\, y_i + a \\sum_{i=1}^n P(y_i) = E[Y] + a\n",
    "\\end{equation}\n",
    "\n",
    "alebo v inom prípade\n",
    "\n",
    "\\begin{equation}\n",
    "E[Z^3] = \\frac{1}{m} \\sum_{i=1}^n q_i \\, (z_i^3) = \\sum_{i=1}^n P(z_i) \\, (z_i^3)\n",
    "\\end{equation}\n"
   ]
  },
  {
   "cell_type": "code",
   "execution_count": 2,
   "metadata": {},
   "outputs": [
    {
     "name": "stdout",
     "output_type": "stream",
     "text": [
      "xi = 0    qi = 7    P(0) = 0.233\n",
      "xi = 1    qi = 6    P(1) = 0.200\n",
      "xi = 2    qi = 5    P(2) = 0.167\n",
      "xi = 3    qi = 5    P(3) = 0.167\n",
      "xi = 4    qi = 3    P(4) = 0.100\n",
      "xi = 5    qi = 4    P(5) = 0.133\n",
      "\n",
      "      Mean =  2.1\n",
      "Numpy mean =  2.1\n"
     ]
    }
   ],
   "source": [
    "# Priklad - Vypocet strednej hodnoty \n",
    "\n",
    "x = range(6)             # hodnoty xi [0, 1, ... 5]\n",
    "q = np.zeros(6)          # hodnoty qi [0, 0,     0]\n",
    "P = np.zeros(6)          # hodnoty pi [0, 0,     0]\n",
    "\n",
    "for xi in x:\n",
    "    q[xi] = sum(X==xi)\n",
    "    P[xi] = q[xi] / m\n",
    "    print('xi = {0:1d}    qi ={1:2.0f}    P({2:1d}) = {3:1.3f}'.format(xi, q[xi], xi, P[xi]))\n",
    "\n",
    "mean = sum(P*x)\n",
    "print()\n",
    "print('      Mean = ', mean)\n",
    "print('Numpy mean = ', np.mean(X))    # standard numpy function mean(x)"
   ]
  },
  {
   "cell_type": "markdown",
   "metadata": {},
   "source": [
    "Je zrejmé, že pre súčet všetkých hodnôt rozdelenia pravdepodobností platí\n"
   ]
  },
  {
   "cell_type": "code",
   "execution_count": null,
   "metadata": {},
   "outputs": [],
   "source": [
    "print(sum(P))"
   ]
  },
  {
   "cell_type": "code",
   "execution_count": 3,
   "metadata": {},
   "outputs": [
    {
     "data": {
      "image/png": "[encoded data removed]",
      "text/plain": [
       "<matplotlib.figure.Figure at 0x7f76778a4b70>"
      ]
     },
     "metadata": {},
     "output_type": "display_data"
    }
   ],
   "source": [
    "# Priklad - Zobrazenie zavislosti P(xi) od xi\n",
    "\n",
    "plt.stem(x, P)\n",
    "plt.grid()\n",
    "plt.xlabel(r'$x_i$')\n",
    "plt.ylabel(r'$P(x_i)$')\n",
    "plt.xlim(x[0]-1, x[-1]+1)\n",
    "plt.show()"
   ]
  },
  {
   "cell_type": "markdown",
   "metadata": {},
   "source": [
    "Vlastnosti odchýlok náhodnej premennej $X$ od strednej hodnoty $\\mu$ popisuje rozptyl (<i>variance</i>) $Var[X]$, v technickej praxi označovaný aj ako $\\sigma^2$, ktorý je definovaný vzťahom (s uplatnením vlastností operátora $E[X]$ )\n",
    "\n",
    "\\begin{equation}\n",
    "\\nonumber\n",
    "\\sigma^2 = Var[X] =  E[(X-E[X])^2] = E[(X-\\mu)^2] \n",
    "\\end{equation}\n",
    "\n",
    "Pri diskrétnom rozdelení vzťah pre rozptyl má tvar  \n",
    "\n",
    "\\begin{equation}\n",
    "Var[X] =  E[(X-\\mu)^2] = \\frac{1}{m} \\sum_{i=1}^n q_i \\, (x_i - \\mu)^2 = \\sum_{i=1}^n P(x_i) \\, (x_i - \\mu)^2\n",
    "\\end{equation} \n",
    "\n",
    "Štandardná odchýlka (<i>standard deviation</i>) $\\sigma$ je definovaná ako\n",
    "\n",
    "\\begin{equation}\n",
    "\\sigma = \\sqrt{Var[X]} \n",
    "\\end{equation}"
   ]
  },
  {
   "cell_type": "code",
   "execution_count": 4,
   "metadata": {},
   "outputs": [
    {
     "name": "stdout",
     "output_type": "stream",
     "text": [
      "      Variance = 2.89\n",
      "Numpy Variance = 2.89\n",
      "\n",
      "  Standard dev.= 1.7\n",
      "Numpy std. dev.= 1.7\n"
     ]
    }
   ],
   "source": [
    "# Priklad - Vypocet variancie a standardnej odchylky\n",
    "\n",
    "variance = sum(P*(x - mean)**2)\n",
    "\n",
    "print('      Variance =', variance)\n",
    "print('Numpy Variance =', np.var(X))    # standard numpy function var(x)\n",
    "\n",
    "std_dev = np.sqrt(variance)\n",
    "\n",
    "print()\n",
    "print('  Standard dev.=', std_dev)\n",
    "print('Numpy std. dev.=', np.std(X))    # standard numpy function std(x)"
   ]
  },
  {
   "cell_type": "markdown",
   "metadata": {},
   "source": [
    "Na základe vlastností operátora $E[X]$ môžeme odvodiť nasledujúce vzťahy ($a, b, c$ - konštanty)\n",
    "\n",
    "\\begin{equation}\n",
    "E[c \\, X] = c \\, E[X]     \n",
    "\\end{equation}\n",
    "\n",
    "\\begin{equation}\n",
    "E[X + c]  = E[X] + c       \n",
    "\\end{equation}\n",
    "\n",
    "\\begin{equation}\n",
    "E[X + Y] = E[X] + E[Y]     \n",
    "\\end{equation}\n",
    "\n",
    "\\begin{equation}\n",
    "E[a X + b] = a \\, E[X] + b \n",
    "\\end{equation}\n",
    "\n",
    "\\begin{equation}\n",
    "E[(X-\\mu)^2] =  E[X^2 - 2 X \\mu + \\mu^2]= E[X^2] - 2 \\, E[X] \\, \\mu + \\mu^2] = E[X^2] - 2 \\mu^2 + \\mu^2 =  E[X^2] - \\mu^2 \n",
    "\\end{equation}\n",
    "\n",
    "\\begin{equation}\n",
    "Var[\\,c\\,] = 0 \\qquad (\\overline{c} = c, \\: c - \\overline{c} = 0)\n",
    "\\end{equation}\n",
    "\n",
    "\\begin{equation}\n",
    "Var[\\,a \\, X + c\\,] = a^2 \\, Var[X] \n",
    "\\end{equation}\n"
   ]
  },
  {
   "cell_type": "markdown",
   "metadata": {},
   "source": [
    "### Príklad - Hádzanie kocky - náhodná premenná\n",
    "\n",
    "Typickú náhodnú premennú s rovnomerným rozdelením získame pri hádzaní kocky, na kocke môžu padnúť hodnoty $x_i \\in \\{1,2,3,4,5,6\\}$. Pri dostatočne veľkom počte pokusov, zistíme, že pravdepodobnosť pre každú hodnotu $x_i$ je rovnaká \n",
    "\n",
    "\\begin{equation}\n",
    "P(1) = P(2) = \\dots = P(6) = \\frac{1}{6}= 0.1666\n",
    "\\end{equation}\n",
    "\n",
    "a hodnoty získané hádzaním kocky môžeme pokladať za náhodnú premennú s rovnomerným rozdelením.\n",
    "\n"
   ]
  },
  {
   "cell_type": "code",
   "execution_count": 5,
   "metadata": {},
   "outputs": [
    {
     "name": "stdout",
     "output_type": "stream",
     "text": [
      "xi = 1  P(1) = 0.169\n",
      "xi = 2  P(2) = 0.171\n",
      "xi = 3  P(3) = 0.165\n",
      "xi = 4  P(4) = 0.166\n",
      "xi = 5  P(5) = 0.166\n",
      "xi = 6  P(6) = 0.164\n"
     ]
    },
    {
     "data": {
      "image/png": "[encoded data removed]",
      "text/plain": [
       "<matplotlib.figure.Figure at 0x7f76952c2860>"
      ]
     },
     "metadata": {},
     "output_type": "display_data"
    }
   ],
   "source": [
    "# Priklad - Simulacia hodu kockou\n",
    "\n",
    "m = 10000                    # pocet hodov kocky   \n",
    "P = []\n",
    "w = range(1,7)               # pole hodnot xi = 1...6\n",
    "X = randint(1, 7, size=m)    # nahodna premenna X, rovnomerne rozdelenie\n",
    "for xi in w:\n",
    "    P.append(sum(X == xi)/m)\n",
    "    print('xi = {0:1d}  P({1:1d}) = {2:1.3f}'.format(xi, xi, P[xi-1]))\n",
    "\n",
    "plt.stem(w, P)\n",
    "plt.grid()\n",
    "plt.xlim(0,7)\n",
    "plt.xlabel(r'$x_i$')\n",
    "plt.ylabel(r'$P \\, (x_i)$')\n",
    "plt.show()"
   ]
  },
  {
   "cell_type": "markdown",
   "metadata": {},
   "source": [
    "Ak hladáme pravdepodobnosť, s akou padne číslo 2 alebo 6, z vyššie uvedeného je zrejmé že\n",
    "\n",
    "\\begin{equation}\n",
    "P(2,6) = \\frac{1 + 1}{6}= 0.3333\n",
    "\\end{equation}\n",
    "\n",
    "Pre strednú hodnotu $E[X]$ platí (stredná hodnota je vlastnosť náhodnej premennej, nie javu, ktorý popisuje)\n",
    "\n",
    "\\begin{equation}\n",
    "E[X] = \\frac{1 + 2 +3 +4 +5 +6 }{6} = 3.5 \n",
    "\\end{equation}\n",
    "\n",
    "Pre rozptyl $Var[X]$ platí\n",
    "\n",
    "\\begin{equation}\n",
    "Var[X] = \\frac{(-2.5)^2 + (-1.5)^2 + (-0.5)^2 + 0.5^2 + 1.5^2 + 2.5^2 }{6} = 2.91 \n",
    "\\end{equation}"
   ]
  },
  {
   "cell_type": "code",
   "execution_count": 6,
   "metadata": {},
   "outputs": [
    {
     "name": "stdout",
     "output_type": "stream",
     "text": [
      "    Mean = 3.4788\n",
      "Variance = 2.91815056\n",
      "Std. dev.= 1.7082595119\n"
     ]
    }
   ],
   "source": [
    "print('    Mean =', np.mean(X))\n",
    "print('Variance =', np.var(X))\n",
    "print('Std. dev.=', np.std(X))"
   ]
  },
  {
   "cell_type": "markdown",
   "metadata": {},
   "source": [
    "### Literatúra\n",
    "\n",
    "Dokumentácia k štatistickým funkciám Numpy\n",
    "\n",
    "https://docs.scipy.org/doc/numpy-1.14.0/reference/routines.statistics.html"
   ]
  }
 ],
 "metadata": {
  "kernelspec": {
   "display_name": "Python 3",
   "language": "python",
   "name": "python3"
  },
  "language_info": {
   "codemirror_mode": {
    "name": "ipython",
    "version": 3
   },
   "file_extension": ".py",
   "mimetype": "text/x-python",
   "name": "python",
   "nbconvert_exporter": "python",
   "pygments_lexer": "ipython3",
   "version": "3.5.2"
  }
 },
 "nbformat": 4,
 "nbformat_minor": 2
}
