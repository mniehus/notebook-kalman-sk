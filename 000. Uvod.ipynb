{
 "cells": [
  {
   "cell_type": "markdown",
   "metadata": {},
   "source": [
    "# Úvod\n",
    "\n",
    "## Použité symboly a skratky\n",
    "\n",
    "\n",
    " <table style=\"width:80%\" >\n",
    "  <tr>\n",
    "    <th> Symbol</th>\n",
    "    <th>Význam</th>\n",
    "  </tr>\n",
    "    \n",
    "  <tr>\n",
    "    <td>$a, b, c, \\dots$ </td>\n",
    "    <td>všeobecné premenné alebo numerické konštanty </td>\n",
    "  </tr>\n",
    "  \n",
    "  <tr>\n",
    "    <td>$ X,Y,Z, \\dots$ </td>\n",
    "    <td>náhodné premenné </td>\n",
    "  </tr>\n",
    "  \n",
    "  <tr>\n",
    "    <td>$E[x]$</td>\n",
    "    <td>operátor </td>\n",
    "  </tr>\n",
    "  \n",
    "  <tr>\n",
    "    <td>$P(x)$</td>\n",
    "    <td>pravdepodobnosť hodnoty x </td>\n",
    "  </tr>\n",
    "  \n",
    "  <tr>\n",
    "    <td>$\\mu$</td>\n",
    "    <td>stredná hodnota </td>\n",
    "  </tr>\n",
    "  \n",
    "  <tr>\n",
    "    <td>$\\sigma^2$</td>\n",
    "    <td>rozptyl, variancia </td>\n",
    "  </tr>\n",
    "  \n",
    "  <tr>\n",
    "    <td>$\\sigma$</td>\n",
    "    <td>štandardná odchýlka </td>\n",
    "  </tr>\n",
    "  \n",
    "</table> "
   ]
  },
  {
   "cell_type": "markdown",
   "metadata": {},
   "source": [
    "## Literatúra\n",
    "\n"
   ]
  },
  {
   "cell_type": "markdown",
   "metadata": {},
   "source": [
    "## Odkazy\n"
   ]
  }
 ],
 "metadata": {
  "kernelspec": {
   "display_name": "Python 3",
   "language": "python",
   "name": "python3"
  },
  "language_info": {
   "codemirror_mode": {
    "name": "ipython",
    "version": 3
   },
   "file_extension": ".py",
   "mimetype": "text/x-python",
   "name": "python",
   "nbconvert_exporter": "python",
   "pygments_lexer": "ipython3",
   "version": "3.5.2"
  }
 },
 "nbformat": 4,
 "nbformat_minor": 2
}
