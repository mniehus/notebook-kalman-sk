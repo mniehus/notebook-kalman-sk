{
 "cells": [
  {
   "cell_type": "markdown",
   "metadata": {},
   "source": [
    "# g-h filter\n",
    "\n",
    "<b>g-h filter</b> (v literatúre označovaný aj ako $\\alpha$-$\\beta$ filter, f-g filter) je filter (algoritmus) na odhad stavu systému na základe jeho predchádzajúcich zmien a aktuálneho merania."
   ]
  },
  {
   "cell_type": "code",
   "execution_count": 1,
   "metadata": {},
   "outputs": [],
   "source": [
    "%reset -f  \n",
    "%matplotlib inline\n",
    "import matplotlib.pylab as plt\n",
    "from src.utils import *"
   ]
  },
  {
   "cell_type": "markdown",
   "metadata": {},
   "source": [
    "Princíp činnosti filtra je jednoduchý:\n",
    "\n",
    "<b>1.</b> \n",
    "Pri incializácii si v čase $t_0$ zvolíme (odhadneme) počiatočný stav systému $x_0$ a predpokladanú veľkosť zmeny stavu $\\Delta x$ počas kroku $\\Delta t$, čo je odhad stavu $\\hat{x}_1$ v prvom kroku.\n",
    "\n",
    "<img src=\"img/gh_1.png\" width=\"350\">"
   ]
  },
  {
   "cell_type": "markdown",
   "metadata": {},
   "source": [
    "<b>2.</b> \n",
    "V nasledujúcom kroku vezmeme nameranú hodnotu $z_1$ a <i>opravíme</i> pomocou nej náš pôvodný odhad stavu systému. \n",
    "\n",
    "Vypočítame rozdiel medzi našim odhadom a nameranou hodnotou \n",
    "\n",
    "\\begin{equation}\n",
    "y = z_1 - \\hat{x}_1\n",
    "\\end{equation}\n",
    "\n",
    "a časť tejto hodnoty použijeme na výpočet stavu \n",
    "\n",
    "\\begin{equation}\n",
    "x_1 = \\hat{x}_1 + g \\, y\n",
    "\\end{equation}\n",
    "\n",
    "\n",
    "Konštantou $g$ určujeme, do akej miery veríme nameraným dátam alebo našim odhadom, hodnotu zvolíme z intervalu $g \\in \\langle 0, 1\\rangle$. \n",
    "\n",
    "Hodnotu $y$ zároveň použijeme na korekciu strmosti prírastku \n",
    "\n",
    "\\begin{equation}\n",
    "\\xi_1 = \\xi_0 + h \\frac {y} {\\Delta t}\n",
    "\\end{equation}\n",
    "\n",
    "Konštantou $h$ určujeme, do akej miery bude na prírastok (budúci odhad) vplývať nameraná hodnota a odhad, hodnotu zvolíme z intervalu $h \\in \\langle 0, 1\\rangle$. \n",
    "\n",
    "<img src=\"img/gh_2.png\" width=\"500\">"
   ]
  },
  {
   "cell_type": "markdown",
   "metadata": {},
   "source": [
    "Všeobecný iteračný algoritmus má potom tvar\n",
    "\n",
    "\\begin{equation}\n",
    "y_k = z_k - \\hat{x}_k\n",
    "\\end{equation}\n",
    "\n",
    "\\begin{equation}\n",
    "x_{k} = \\hat{x}_{k} + g \\, y_{k}\n",
    "\\end{equation}\n",
    "\n",
    "\\begin{equation}\n",
    "\\xi_{k+1} = \\xi_k + h \\frac {y_k} {\\Delta_t}\n",
    "\\end{equation}\n",
    "\n",
    "\\begin{equation}\n",
    "\\hat{x}_{k+1} = x_k + \\xi_k \\, \\Delta_t\n",
    "\\end{equation}\n",
    "\n",
    "g-h filter nevyžaduje znalosť detailného modelu systému a výhodou je aj jeho jednoduchá implementácia. Je ale zrejmé, že vlastnosti závisia od výberu hodnôt $g$ a $h$: \n",
    "\n",
    "<table style=\"width:80%\" >\n",
    "  <tr>\n",
    "    <td>$g=1 \\rightarrow x_k = z_k \\quad $  </td>\n",
    "    <td>filter sleduje len namerané dáta </td>\n",
    "  </tr>\n",
    "    \n",
    "  <tr>\n",
    "    <td>$g=0 \\rightarrow x_k = \\hat{x}_k \\quad $                                 </td>\n",
    "    <td>filter ignoruje namerané dáta                                            </td>\n",
    "  </tr>\n",
    "  \n",
    "  <tr>\n",
    "    <td>$h=1 \\rightarrow \\xi_{k+1} = \\xi_k + y_k/\\Delta_t\\quad $                 </td>\n",
    "    <td>filter má maximálnu strmosť prírastku                                    </td>\n",
    "  </tr>\n",
    "  \n",
    "  <tr>\n",
    "    <td>$h=0 \\rightarrow \\xi_{k+1} = \\xi_k = \\dots = \\xi_0 \\quad $                </td>\n",
    "    <td>filter má konštantnú strmosť prírastku, odhadnutú pri in inicializácii    </td>\n",
    "  </tr>\n",
    "</table> \n",
    "\n",
    "Implementácia g-h filtra je triviálna"
   ]
  },
  {
   "cell_type": "code",
   "execution_count": 2,
   "metadata": {},
   "outputs": [],
   "source": [
    "def gh_filter(data, x0, ph, g, h, dt): \n",
    "    '''\n",
    "    x0 - pociatocny odhad hodnoty\n",
    "    ph - pociatocny odhad strmosti\n",
    "    g  - vaha merania\n",
    "    h  - vaha strmosti\n",
    "    dt - casovy interval medzi meraniami\n",
    "    '''\n",
    "    x=x0\n",
    "    r=[]\n",
    "    for z in data:\n",
    "        xs = x + ph*dt\n",
    "        y = z - xs\n",
    "        x = xs + g*y \n",
    "        ph = ph + g*y/dt\n",
    "        r.append(x)\n",
    "    return r"
   ]
  },
  {
   "cell_type": "markdown",
   "metadata": {},
   "source": [
    "Použitie filtra\n"
   ]
  },
  {
   "cell_type": "code",
   "execution_count": 4,
   "metadata": {},
   "outputs": [
    {
     "data": {
      "image/png": "[encoded data removed]",
      "text/plain": [
       "<matplotlib.figure.Figure at 0x7f1e4185a208>"
      ]
     },
     "metadata": {},
     "output_type": "display_data"
    }
   ],
   "source": [
    "t = [5.0, 15.0]            # cas\n",
    "f = [0.0,  2.0]            # sila\n",
    "std = [0.2, 0.02, 0.05]    # standardne ochylky\n",
    "m = 100                    # hmotnost\n",
    "dt = 0.1                   # interval vzorkovania\n",
    "z,x,tx = motionData(t, f, std, m, dt)\n",
    "\n",
    "s=z[:,0]   # poloha so sumom\n",
    "p=x[:,0]   # idealna poloha\n",
    "\n",
    "#                x0   ph   g     h\n",
    "r = gh_filter(s, 0.1, 0.0, 0.01, 0.5, dt)\n",
    "\n",
    "plt.plot(tx,s, 'b.')\n",
    "plt.plot(tx,r, 'r-')\n",
    "plt.plot(tx,p, 'k:')\n",
    "plt.xlabel('Time')\n",
    "plt.ylabel('Pos [m]')\n",
    "plt.grid()\n",
    "plt.show()"
   ]
  }
 ],
 "metadata": {
  "kernelspec": {
   "display_name": "Python 3",
   "language": "python",
   "name": "python3"
  },
  "language_info": {
   "codemirror_mode": {
    "name": "ipython",
    "version": 3
   },
   "file_extension": ".py",
   "mimetype": "text/x-python",
   "name": "python",
   "nbconvert_exporter": "python",
   "pygments_lexer": "ipython3",
   "version": "3.5.2"
  }
 },
 "nbformat": 4,
 "nbformat_minor": 2
}
