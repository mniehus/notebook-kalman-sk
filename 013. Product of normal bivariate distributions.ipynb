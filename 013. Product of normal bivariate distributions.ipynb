{
 "cells": [
  {
   "cell_type": "markdown",
   "metadata": {},
   "source": [
    "# Súčin dvojrozmerných normálnych rozdelení\n",
    "\n",
    "Pre súčin dvojrozmerných funkcií je možné odvodiť - [link](http://www.tina-vision.net/docs/memos/2003-003.pdf), podobne ako pri jednorozmernom prípade, vzťahy pre strednú hodnotu a rozptyl\n",
    "\n",
    "\\begin{equation}\n",
    "\\mu = \\Sigma_2 \\, (\\Sigma_1 + \\Sigma_2)^{-1}\\, \\mu_1 + \\Sigma_1 \\, (\\Sigma_1 + \\Sigma_2)^{-1}\\, \\mu_2\n",
    "\\end{equation}\n",
    "\n",
    "\\begin{equation}\n",
    "\\Sigma = \\Sigma_1 \\, (\\Sigma_1 + \\Sigma_2)^{-1} \\, \\Sigma_2\n",
    "\\end{equation}\n",
    "\n",
    "<b>Príklad</b> \n",
    "\n",
    "Pre dve dvojrozmerné rozdelenia spočítame určíme vlastnosti súčinu <i>pdf</i> rozdelení. \n",
    "\n",
    "\\begin{equation}\n",
    "\\textbf{X} \\sim \\mathcal{N}(\\boldsymbol\\mu_1, \\boldsymbol\\Sigma_1), \\quad\n",
    "\\boldsymbol\\mu_1 = \\begin{bmatrix} 0 \\\\ 0 \\end{bmatrix}, \\quad\n",
    "\\boldsymbol\\Sigma_1 = \\begin{bmatrix} 5 & 2.5 \\\\\n",
    "                    2.5  & 2 \\end{bmatrix}\n",
    "\\end{equation}\n",
    "\n",
    "\\begin{equation}\n",
    "\\textbf{Y} \\sim \\mathcal{N}(\\boldsymbol\\mu_2, \\boldsymbol\\Sigma_2), \\quad\n",
    "\\boldsymbol\\mu_2 = \\begin{bmatrix} 1 \\\\ 1 \\end{bmatrix}, \\quad\n",
    "\\boldsymbol\\Sigma_2 = \\begin{bmatrix} 6 & -4 \\\\\n",
    "                    -4  & 3 \\end{bmatrix}\n",
    "\\end{equation}\n",
    "\n",
    "Pre výpočet vektora strednej hodnoty a hodnoty kovariančnej matice súčinu môžeme použiť funkciu pre maticové násobenie troch maticových argumentov \\texttt{dot3()} alebo priamo funkciu pre násobenie \\textit{pdf} dvoch N-rozmerných normálnych \\texttt{multivariate\\_multiply()}z knižnice \\textit{filterpy}. "
   ]
  },
  {
   "cell_type": "code",
   "execution_count": 1,
   "metadata": {},
   "outputs": [
    {
     "name": "stdout",
     "output_type": "stream",
     "text": [
      "Mean\n",
      " [ 1.20853081  0.78199052]\n",
      "\n",
      "Sigma\n",
      " [[ 0.61611374 -0.18957346]\n",
      " [-0.18957346  0.28909953]]\n"
     ]
    }
   ],
   "source": [
    "%reset -f  \n",
    "%matplotlib inline\n",
    "\n",
    "from numpy import array, dot\n",
    "from numpy.linalg import inv\n",
    "\n",
    "dot3 = lambda m1,m2,m3: dot(dot(m1,m2), m3)  \n",
    "\n",
    "S1=array([[5, 2.5], [2.5, 2]])\n",
    "m1=array([0,0])\n",
    "\n",
    "S2=array([[6, -4], [-4, 3]])\n",
    "m2=array([1,1])\n",
    "\n",
    "m = dot3(S2, inv(S1 + S2), m1) + dot3(S1, inv(S1 + S2), m2)\n",
    "S = dot3(S1, inv(S1 + S2), S2)\n",
    "\n",
    "print('Mean\\n',m)\n",
    "print()\n",
    "print('Sigma\\n',S)"
   ]
  }
 ],
 "metadata": {
  "kernelspec": {
   "display_name": "Python 3",
   "language": "python",
   "name": "python3"
  },
  "language_info": {
   "codemirror_mode": {
    "name": "ipython",
    "version": 3
   },
   "file_extension": ".py",
   "mimetype": "text/x-python",
   "name": "python",
   "nbconvert_exporter": "python",
   "pygments_lexer": "ipython3",
   "version": "3.5.2"
  }
 },
 "nbformat": 4,
 "nbformat_minor": 2
}
