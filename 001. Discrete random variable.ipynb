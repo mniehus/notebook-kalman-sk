{
 "cells": [
  {
   "cell_type": "markdown",
   "metadata": {},
   "source": [
    "# Jednorozmerná diskrétna náhodná premenná\n",
    "\n",
    "Predpokladajme, že máme konečnú postupnosť $X$, ktorá obsahuje $m$ hodnôt náhodnej premennej, $X=\\{X_1, X_2, \\dots X_m\\}$.\n",
    "Rozsah hodnôt náhodnej premennej $X$ je daný $n$ diskrétnymi hodnotami $x_i, \\, i=1 \\dots n$.\n",
    "\n",
    "Pravdepodobnosť $p_i$  výskytu hodnoty $x_i$ v postupnosti $X$ je definovaná ako počet výskytov tejto hodnoty $q_i$ vzhľadom na celkový počet hodnôt v súbore $m$\n",
    "\n",
    "\\begin{equation}\n",
    "P(x_i) = p_i = \\frac{q_i}{m}  \n",
    "\\end{equation}\n",
    "\n"
   ]
  },
  {
   "cell_type": "code",
   "execution_count": 1,
   "metadata": {},
   "outputs": [
    {
     "name": "stdout",
     "output_type": "stream",
     "text": [
      "  X  =  [2 2 3 5 1 4 1 5 0 0 4 4 3 2 3 4 0 5 1 1 1 4 3 5 3 5 2 5 2 3]\n",
      "  xi =  3\n",
      "  qi =  6\n",
      "P(3) =  0.200\n"
     ]
    },
    {
     "data": {
      "image/png": "[encoded data removed]",
      "text/plain": [
       "<matplotlib.figure.Figure at 0x7fc5483ab080>"
      ]
     },
     "metadata": {},
     "output_type": "display_data"
    }
   ],
   "source": [
    "%reset -f  \n",
    "%matplotlib inline\n",
    "\n",
    "import numpy as np\n",
    "from numpy.random import randint\n",
    "import matplotlib.pyplot as plt\n",
    "\n",
    "# Priklad - Vypocet pravdepodobnosti vyskytu P(xi)\n",
    "\n",
    "m = 30                   # pocet hodnot X   \n",
    "X = randint(6, size=m)   # vytvorenie pola X, int hodnoty z rozsahu 0...5, rovnomerne rozdelenie\n",
    "xi = 3                   # zvolena hodnota nahodnej premennej\n",
    "qi = sum(X==xi)          # vypocet pocetnosti vyskytu xi\n",
    "pi = qi / m              # vypocet pravdepodobnosti P\n",
    "\n",
    "print('  X  = ', X)\n",
    "print('  xi = ', xi)\n",
    "print('  qi = ', qi)\n",
    "print('P({0:1d}) =  {1:0.3f}'.format(xi, pi))\n",
    "\n",
    "plt.plot(X, 'ro')\n",
    "plt.grid()\n",
    "plt.xlabel(r'$m$')\n",
    "plt.ylabel(r'$x_i$')\n",
    "plt.ylim(0,6)\n",
    "plt.show()"
   ]
  },
  {
   "cell_type": "markdown",
   "metadata": {},
   "source": [
    "Charakteristickou hodnotou náhodnej premennej je stredná hodnota $E[X]$ (v literatúre označovaná aj ako <i>mean</i>, <i>excepted value</i>) $E[X]$, štandardne označovaná aj ako $\\mu$. Pre túto  môžeme písať \n",
    "\n",
    "\\begin{equation}\n",
    "\\mu = E[X] = \\frac{1}{m} \\sum_{i=1}^n q_i \\, x_i = \\sum_{i=1}^n p_i \\, x_i \n",
    "\\end{equation}\n",
    "\n",
    "kde postupnosť $ \\lbrace p_1, \\, p_2 \\dots \\rbrace $ definuje rozdelenie pravdepodobností pre hodnoty $ \\lbrace x_1, \\, x_2 \\dots \\rbrace $. \n",
    "\n",
    "Označenie $E[X]$ definuje operátor nad postupnosťou $X$, t.j. násobenie a následnú sumáciu prvkov postupnosti, napr.\n",
    "\n",
    "\\begin{equation}\n",
    "E[Y + a] = \\frac{1}{m} \\sum_{i=1}^n q_i \\, (y_i + a) = \\sum_{i=1}^n p_i \\, (y_i + a) \n",
    "\\end{equation}\n",
    "\n",
    "V literatúre sa používajú pre označenie strednej hodnoty aj symboly $\\mathbb{E}[X]$, $E(X)$, $E(x)$, $\\overline{X}$, $\\overline{x}$."
   ]
  },
  {
   "cell_type": "code",
   "execution_count": 2,
   "metadata": {},
   "outputs": [
    {
     "name": "stdout",
     "output_type": "stream",
     "text": [
      "xi = 0    qi = 3    pi = 0.100\n",
      "xi = 1    qi = 5    pi = 0.167\n",
      "xi = 2    qi = 5    pi = 0.167\n",
      "xi = 3    qi = 6    pi = 0.200\n",
      "xi = 4    qi = 5    pi = 0.167\n",
      "xi = 5    qi = 6    pi = 0.200\n",
      "\n",
      "      Mean =  2.76666666667\n",
      "Numpy mean =  2.76666666667\n"
     ]
    }
   ],
   "source": [
    "# Priklad - Vypocet strednej hodnoty nahodnej premennej X\n",
    "\n",
    "x = range(6)             # hodnoty xi [0, 1, ... 5]\n",
    "q = np.zeros(6)          # hodnoty qi [0, 0,     0]\n",
    "p = np.zeros(6)          # hodnoty pi [0, 0,     0]\n",
    "\n",
    "for xi in x:\n",
    "    q[xi] = sum(X==xi)\n",
    "    p[xi] = q[xi] / m\n",
    "    print('xi = {0:1d}    qi ={1:2.0f}    pi = {2:1.3f}'.format(xi, q[xi], p[xi]))\n",
    "\n",
    "mean = sum(p*x)\n",
    "print()\n",
    "print('      Mean = ', mean)\n",
    "print('Numpy mean = ', np.mean(X))    # standard numpy function mean(x)"
   ]
  },
  {
   "cell_type": "code",
   "execution_count": 3,
   "metadata": {},
   "outputs": [
    {
     "data": {
      "image/png": "[encoded data removed]",
      "text/plain": [
       "<matplotlib.figure.Figure at 0x7fc54801ac50>"
      ]
     },
     "metadata": {},
     "output_type": "display_data"
    }
   ],
   "source": [
    "# Priklad - Zobrazenie zavislosti pi od xi - diskrétna rozdelovacia funkcia nahodnej premennej\n",
    "\n",
    "plt.stem(x, p)\n",
    "plt.grid()\n",
    "plt.xlabel(r'$x_i$')\n",
    "plt.ylabel(r'$f_i$')\n",
    "plt.xlim(x[0]-1, x[-1]+1)\n",
    "plt.show()"
   ]
  },
  {
   "cell_type": "markdown",
   "metadata": {},
   "source": [
    "Je zrejmé, že pre súčet hodnôt rozdelenia pravdepodobností platí\n",
    "\n",
    "\\begin{equation}\n",
    "\\sum_{i=1}^n p_i = 1\n",
    "\\end{equation}"
   ]
  },
  {
   "cell_type": "code",
   "execution_count": 4,
   "metadata": {},
   "outputs": [
    {
     "name": "stdout",
     "output_type": "stream",
     "text": [
      "1.0\n"
     ]
    }
   ],
   "source": [
    "print(sum(p))"
   ]
  },
  {
   "cell_type": "markdown",
   "metadata": {},
   "source": [
    "Vlastnosti odchýlok náhodnej premennej $X$ od strednej hodnoty $\\mu$ popisuje rozptyl (<i>variance</i>) $Var[X]$, v technickej praxi označovaný aj ako $\\sigma^2$, ktorý je definovaný vzťahom\n",
    "\n",
    "\\begin{equation}\n",
    "\\nonumber\n",
    "\\sigma^2 = Var[X] =  E[(X-E[X])^2] = E[(X-\\mu)^2] \n",
    "\\end{equation}\n",
    "\n",
    "Pri diskrétnom rozdelení vzťah pre rozptyl má tvar (s uplatnením vlastností operátora $E[X]$ ) \n",
    "\n",
    "\\begin{equation}\n",
    "Var[X] =  E[(X-\\mu)^2] = \\frac{1}{m} \\sum_{i=1}^n q_i \\, (x_i - \\mu)^2 = \\sum_{i=1}^n p_i \\, (x_i - \\mu)^2\n",
    "\\end{equation} \n",
    "\n",
    "Štandardná odchýlka (<i>standard deviation</i>) $\\sigma$ je definovaná ako\n",
    "\n",
    "\\begin{equation}\n",
    "\\sigma = \\sqrt{Var[X]} \n",
    "\\end{equation}"
   ]
  },
  {
   "cell_type": "code",
   "execution_count": 5,
   "metadata": {},
   "outputs": [
    {
     "name": "stdout",
     "output_type": "stream",
     "text": [
      "      Variance = 2.64555555556\n",
      "Numpy Variance = 2.64555555556\n",
      "\n",
      "  Standard dev.= 1.6265163865\n",
      "Numpy std. dev.= 1.6265163865\n"
     ]
    }
   ],
   "source": [
    "# Priklad - Vypocet variancie a standardnej odchylky\n",
    "\n",
    "variance = sum(p*(x - mean)**2)\n",
    "\n",
    "print('      Variance =', variance)\n",
    "print('Numpy Variance =', np.var(X))    # standard numpy function var(x)\n",
    "\n",
    "std_dev = np.sqrt(variance)\n",
    "\n",
    "print()\n",
    "print('  Standard dev.=', std_dev)\n",
    "print('Numpy std. dev.=', np.std(X))    # standard numpy function std(x)"
   ]
  },
  {
   "cell_type": "markdown",
   "metadata": {},
   "source": [
    "Na základe vlastností operátora $E[X]$ môžeme odvodiť nasledujúce vzťahy\n",
    "\n",
    "\\begin{equation}\n",
    "E[c \\, X] = c \\, E[X]     \n",
    "\\end{equation}\n",
    "\n",
    "\\begin{equation}\n",
    "E[X + c]  = E[X] + c       \n",
    "\\end{equation}\n",
    "\n",
    "\\begin{equation}\n",
    "E[X + Y] = E[X] + E[Y]     \n",
    "\\end{equation}\n",
    "\n",
    "\\begin{equation}\n",
    "E[a X + b] = a \\, E[X] + b \n",
    "\\end{equation}\n",
    "\n",
    "\\begin{equation}\n",
    "E[(X-\\mu)^2] =  E[X^2 - 2 X \\mu + \\mu^2]= E[X^2] - 2 \\, E[X] \\, \\mu + \\mu^2] = E[X^2] - 2 \\mu^2 + \\mu^2 =  E[X^2] - \\mu^2 \n",
    "\\end{equation}\n",
    "\n",
    "\\begin{equation}\n",
    "Var[\\,c\\,] = 0 \\qquad (\\overline{c} = c, \\: c - \\overline{c} = 0)\n",
    "\\end{equation}\n",
    "\n",
    "\\begin{equation}\n",
    "Var[\\,a \\, X + c\\,] = a^2 \\, Var[X] \n",
    "\\end{equation}\n"
   ]
  },
  {
   "cell_type": "markdown",
   "metadata": {},
   "source": [
    "# Pravdepodobnosť\n",
    "\n",
    "Pri hádzaní kocky môžu padnúť hodnoty $x= \\{1,2,3,4,5,6\\}$. Pri dostatočne veľkom počte pokusov,  zistíme, že pravdepodobnosť pre každú hodnotu $x_i$ je rovnaká \n",
    "\n",
    "\\begin{equation}\n",
    "P(1) = P(2) = \\dots = P(6) = \\frac{1}{6}= 0.1666\n",
    "\\end{equation}\n",
    "\n",
    "Ak hladáme pravdepodobnosť, s akou padne číslo 2 alebo 6, z vyššie uvedeného je zrejmé že\n",
    "\n",
    "\\begin{equation}\n",
    "P(2,6) = \\frac{1 + 1}{6}= 0.3333\n",
    "\\end{equation}\n",
    "\n",
    "Pre strednú hodnotu $E[X]$ platí (stredná hodnota je vlastnosť náhodnej premennej, nie javu, ktorý popisuje)\n",
    "\n",
    "\\begin{equation}\n",
    "E[X] = \\frac{1 + 2 +3 +4 +5 +6 }{6} = 3.5 \n",
    "\\end{equation}\n",
    "\n",
    "Pre rozptyl $Var[X]$ platí\n",
    "\n",
    "\\begin{equation}\n",
    "Var[X] = \\frac{(-2.5)^2 + (-1.5)^2 + (-0.5)^2 + 0.5^2 + 1.5^2 + 2.5^2 }{6} = 2.91 \n",
    "\\end{equation}\n",
    "\n",
    "<i>Poznámka</i> \n",
    "\n",
    "Chuck Norris údajne dokázal pri nekonečnom počte hodov kockou hodiť samé šestky, sem tam aj sedmičku, pre takýto prípad platí rozdelenie pravdepodobnosti $p_{1 \\dots 5}=0$ , $p_6=1$, $p_7 \\neq 0$, $m \\rightarrow \\infty$"
   ]
  },
  {
   "cell_type": "code",
   "execution_count": 6,
   "metadata": {},
   "outputs": [
    {
     "data": {
      "image/png": "[encoded data removed]",
      "text/plain": [
       "<matplotlib.figure.Figure at 0x7fc5682e5ac8>"
      ]
     },
     "metadata": {},
     "output_type": "display_data"
    },
    {
     "name": "stdout",
     "output_type": "stream",
     "text": [
      "    Mean = 3.4982\n",
      "Variance = 2.89519676\n",
      "Std. dev.= 1.70152777233\n"
     ]
    }
   ],
   "source": [
    "# Priklad - Simulacia hodu kockou\n",
    "\n",
    "m = 10000                    # pocet hodov kocky   \n",
    "p = []\n",
    "w = range(1,7)               # pole hodnot xi = 1...6\n",
    "X = randint(1, 7, size=m)    # nahodna premenna X, rovnomerne rozdelenie\n",
    "for xi in w:\n",
    "    p.append(sum(X == xi)/m)\n",
    "\n",
    "plt.stem(w, p)\n",
    "plt.grid()\n",
    "plt.xlim(0,7)\n",
    "plt.xlabel(r'$x_i$')\n",
    "plt.ylabel(r'$P \\, (x_i)$')\n",
    "plt.show()\n",
    "\n",
    "print('    Mean =', np.mean(X))\n",
    "print('Variance =', np.var(X))\n",
    "print('Std. dev.=', np.std(X))"
   ]
  },
  {
   "cell_type": "markdown",
   "metadata": {},
   "source": [
    "# Nezávislé náhodné premenné\n",
    "\n",
    "Hodnoty niekoľkých štatisticky nezávislých premenných môžeme pokladať za špeciálny prípad reprezentácie n-rozmernej náhodnej premennej vo vektorovom tvare. Pre ilustráciu určime pravdepodobnosť, kedy pri hode dvoch kociek padne rovnaká hodnota.\n",
    "\n",
    "Náhodná premenná X môže mať hodnoty\n",
    "\n",
    "\\begin{equation}\n",
    "X = \\{ [1,1], [1,2] \\dots [1,6], [2,1], [2,2], \\dots [6,5], [6,6] \\}\n",
    "\\end{equation}\n",
    "\n",
    "Celkový počet hodnôt $m = 36$, hladáme pravdepodobnosť výskytu stavov $q = \\{[1,1], \\dots [6,6] \\}$ \n",
    "\n",
    "\\begin{equation}\n",
    "P(q) = \\frac{6} {36} = 0.1666\n",
    "\\end{equation}\n"
   ]
  },
  {
   "cell_type": "code",
   "execution_count": 7,
   "metadata": {},
   "outputs": [
    {
     "name": "stdout",
     "output_type": "stream",
     "text": [
      "P(q) =  0.1648\n"
     ]
    }
   ],
   "source": [
    "# Priklad - Simulacia hodu dvoma kockami\n",
    "\n",
    "m = 10000                    # pocet sucasnych hodov kociek  \n",
    "q = 0\n",
    "X = randint(1, 7, size=m)    # kocka c. 1, nahodna premenna X\n",
    "Y = randint(1, 7, size=m)    # kocka c. 2, nahodna premenna Y\n",
    "for i in range(m):\n",
    "    if X[i] == Y[i]:\n",
    "        q+=1\n",
    "\n",
    "print('P(q) = ', float(q)/m)"
   ]
  },
  {
   "cell_type": "markdown",
   "metadata": {},
   "source": [
    "# Podmienená pravdepodobnosť\n",
    "\n",
    "Ak máme náhodnú premennú, v ktorej sa môžu vyskytovať javy $A$ a $B$ s pravdepodobnosťami $P(A)$ a $P(B)$, pričom $P(B) \\neq 0$, potom o podmienenej pravdepodobnosti hovoríme vtedy, ak hladáme pravdepodobnosť výskytu javu $A$, ak nastal jav $B$.\n",
    "\n",
    "\n",
    "\\begin{equation}\n",
    "P(A | B) = \\frac{P (A \\cap B)} {P(B)} \n",
    "\\end{equation}\n",
    "\n",
    "Určime pravdepodobnosť, že ak na kocke padne párne číslo (jav B, $P(B)=1/2$), tak toto číslo bude 4 (jav $A$ $P(A)=1/6$). \n",
    "\n",
    "Prienik $P (A \\cap B)$ má hodnotu $1/6$ - prienik pravdepodobnosti výskytu $\\{ 2,4,6 \\}$ a hodnoty $4$ je $1/6$.\n",
    "\n",
    "Potom \n",
    "\n",
    "\\begin{equation}\n",
    "P(A | B) = \\frac{P (A \\cap B)} {P(B)} = \\frac {1/6} {1/2} = 1/3\n",
    "\\end{equation}"
   ]
  },
  {
   "cell_type": "code",
   "execution_count": 8,
   "metadata": {},
   "outputs": [
    {
     "name": "stdout",
     "output_type": "stream",
     "text": [
      "P(A|B) =  0.32958292919495635\n"
     ]
    }
   ],
   "source": [
    "m = 10000                    # pocet hodov kocky  \n",
    "A = 0                        # pocetnost javu A\n",
    "B = 0                        # pocetnost javu B\n",
    "X = randint(1, 7, size=m)    # nahodna premenna X\n",
    "for i in range(m):\n",
    "    if X[i] in [2,4,6]:\n",
    "        B+=1\n",
    "        if X[i]== 4:\n",
    "            A+=1\n",
    "\n",
    "print('P(A|B) = ', float(A)/B)"
   ]
  },
  {
   "cell_type": "markdown",
   "metadata": {},
   "source": [
    "### Literatúra\n",
    "\n",
    "Dokumentácia k štatistickým funkciám Numpy\n",
    "\n",
    "https://docs.scipy.org/doc/numpy-1.14.0/reference/routines.statistics.html"
   ]
  }
 ],
 "metadata": {
  "kernelspec": {
   "display_name": "Python 3",
   "language": "python",
   "name": "python3"
  },
  "language_info": {
   "codemirror_mode": {
    "name": "ipython",
    "version": 3
   },
   "file_extension": ".py",
   "mimetype": "text/x-python",
   "name": "python",
   "nbconvert_exporter": "python",
   "pygments_lexer": "ipython3",
   "version": "3.5.2"
  }
 },
 "nbformat": 4,
 "nbformat_minor": 2
}
