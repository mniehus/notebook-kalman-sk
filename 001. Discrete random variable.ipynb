{
 "cells": [
  {
   "cell_type": "markdown",
   "metadata": {},
   "source": [
    "# Jednorozmerná diskrétna náhodná premenná\n",
    "\n",
    "Predpokladajme, že máme konečnú postupnosť $X$, ktorá obsahuje $m$ hodnôt náhodnej premennej, $X=\\{X_1, X_2, \\dots X_m\\}$, Rozsah hodnôt náhodnej premennej $X$ je daný $n$ diskrétnymi hodnotami $x_i, \\, i=1 \\dots n$.\n",
    "\n",
    "Pravdepodobnosť $p_i$  výskytu hodnoty $x_i$ v postupnosti $X$ je definovaná ako počet výskytov tejto hodnoty $q_i$ vzhľadom na celkový počet hodnôt v súbore $m$\n",
    "\n",
    "\\begin{equation}\n",
    "p_i = P \\,(x_i) = \\frac{q_i}{m}  \n",
    "\\end{equation}\n",
    "\n"
   ]
  },
  {
   "cell_type": "code",
   "execution_count": 1,
   "metadata": {},
   "outputs": [
    {
     "name": "stdout",
     "output_type": "stream",
     "text": [
      "  X  =  [2 4 2 3 4 3 0 5 4 1 0 4 2 3 2 5 0 0 2 5 5 0 0 1 1 3 5 1 1 2]\n",
      "  qi =  4\n",
      "P(3) =  0.133\n"
     ]
    }
   ],
   "source": [
    "%reset -f  \n",
    "%matplotlib inline\n",
    "\n",
    "import numpy as np\n",
    "from numpy.random import randint\n",
    "import matplotlib.pyplot as plt\n",
    "\n",
    "# Priklad - Vypocet pravdepodobnosti vyskytu P(xi)\n",
    "\n",
    "m = 30                   # pocet hodnot X   \n",
    "X = randint(6, size=m)   # vytvorenie pola X, int hodnoty z rozsahu 0...5, rovnomerne rozdelenie\n",
    "xi = 3                   # zvolena hodnota nahodnej premennej\n",
    "qi = sum(X==xi)          # vypocet pocetnosti vyskytu xi\n",
    "P = qi / m               # vypocet pravdepodobnosti P\n",
    "\n",
    "print('  X  = ', X)\n",
    "print('  qi = ', qi)\n",
    "print('P({0:1d}) =  {1:0.3f}'.format(xi,P))"
   ]
  },
  {
   "cell_type": "markdown",
   "metadata": {},
   "source": [
    "Označenie $P(x_i)$  definuje pravdepodobnosť ako funkčnú závislosť od hodnoty $x_i$.V literatúre sa vyskytujú aj alternatívne označenie $P(X=x_i)$, $P[X=x_i]$.\n",
    "\n",
    "Charakteristickou hodnotou náhodnej premennej je stredná hodnota $E[X]$ (v literatúre označovaná aj ako <i>mean</i>, <i>excepted value</i>) $E[X]$, štandardne označovaná aj ako $\\mu$. Pre túto  môžeme písať \n",
    "\n",
    "\\begin{equation}\n",
    "\\mu = E[X] = \\frac{1}{m} \\sum_{i=1}^n q_i x_i = \\sum_{i=1}^n p_i x_i \n",
    "\\end{equation}\n",
    "\n",
    "kde postupnosť $ \\lbrace p_1, \\, p_2 \\dots \\rbrace $ definuje rozdelenie pravdepodobností pre hodnoty $ \\lbrace x_1, \\, x_2 \\dots \\rbrace $. \n",
    "\n",
    "Označenie $E[X]$ definuje operátor nad postupnosťou $X$, t.j. násobenie a následnú sumáciu prvkov postupnosti, napr.\n",
    "\n",
    "\\begin{equation}\n",
    "E[Y + a] = \\frac{1}{m} \\sum_{i=1}^n q_i (y_i + a) = \\sum_{i=1}^n p_i (y_i + a) \n",
    "\\end{equation}\n",
    "\n",
    "V literatúre sa používajú pre označenie strednej hodnoty aj symboly $\\mathbb{E}[X]$, $E(X)$, $E(x)$, $\\overline{X}$, $\\overline{x}$."
   ]
  },
  {
   "cell_type": "code",
   "execution_count": 2,
   "metadata": {},
   "outputs": [
    {
     "name": "stdout",
     "output_type": "stream",
     "text": [
      "xi = 0    qi = 6    pi = 0.200\n",
      "xi = 1    qi = 5    pi = 0.167\n",
      "xi = 2    qi = 6    pi = 0.200\n",
      "xi = 3    qi = 4    pi = 0.133\n",
      "xi = 4    qi = 4    pi = 0.133\n",
      "xi = 5    qi = 5    pi = 0.167\n",
      "\n",
      "      Mean =  2.33333333333\n",
      "Numpy mean =  2.33333333333\n"
     ]
    }
   ],
   "source": [
    "# Priklad - Vypocet strednej hodnoty\n",
    "\n",
    "x = range(6)             # hodnoty xi [0, 1, ... 5]\n",
    "q = np.zeros(6)          # hodnoty qi [0, 0,     0]\n",
    "p = np.zeros(6)          # hodnoty pi [0, 0,     0]\n",
    "\n",
    "for xi in x:\n",
    "    q[xi] = sum(X==xi)\n",
    "    p[xi] = q[xi] / m\n",
    "    print('xi = {0:1d}    qi ={1:2.0f}    pi = {2:1.3f}'.format(xi,q[xi], p[xi]))\n",
    "\n",
    "mean = sum(p*x)\n",
    "print()\n",
    "print('      Mean = ', mean)\n",
    "print('Numpy mean = ', np.mean(X))    # standard numpy function mean(x)"
   ]
  },
  {
   "cell_type": "code",
   "execution_count": 3,
   "metadata": {},
   "outputs": [
    {
     "data": {
      "image/png": "[encoded data removed]",
      "text/plain": [
       "<matplotlib.figure.Figure at 0x7ff8685b6ac8>"
      ]
     },
     "metadata": {},
     "output_type": "display_data"
    }
   ],
   "source": [
    "# Priklad - Zobrazenie zavislosti pi od xi - diskrétna rozdelovacia funkcia nahodnej premennej\n",
    "\n",
    "plt.stem(x,p)\n",
    "plt.grid()\n",
    "plt.xlabel(r'$x_i$')\n",
    "plt.ylabel(r'$p_i$')\n",
    "plt.show()"
   ]
  },
  {
   "cell_type": "markdown",
   "metadata": {},
   "source": [
    "Je zrejmé, že pre súčet hodnôt rozdelenia pravdepodobností platí\n",
    "\n",
    "\\begin{equation}\n",
    "\\sum_{i=1}^n p_i = 1\n",
    "\\end{equation}"
   ]
  },
  {
   "cell_type": "code",
   "execution_count": 4,
   "metadata": {},
   "outputs": [
    {
     "name": "stdout",
     "output_type": "stream",
     "text": [
      "1.0\n"
     ]
    }
   ],
   "source": [
    "print(sum(p))"
   ]
  },
  {
   "cell_type": "markdown",
   "metadata": {},
   "source": [
    "Vlastnosti odchýlok náhodnej premennej $X$ od strednej hodnoty $\\mu$ popisuje rozptyl (<i>variance</i>) $Var[X]$, v technickej praxi označovaný aj ako $\\sigma^2$, ktorý je definovaný vzťahom\n",
    "\n",
    "\\begin{equation}\n",
    "\\nonumber\n",
    "\\sigma^2 = Var[X] =  E[(X-E[X])^2] = E[(X-\\mu)^2] \n",
    "\\end{equation}\n",
    "\n",
    "Pri diskrétnom rozdelení vzťah pre rozptyl má tvar (s uplatnením vlastností operátora $E[X]$ ) \n",
    "\n",
    "\\begin{equation}\n",
    "Var[X] =  E[(X-\\mu)^2] = \\frac{1}{m} \\sum_{i=1}^n q_i (x_i - \\mu)^2 = \\sum_{i=1}^n p_i (x_i - \\mu)^2\n",
    "\\end{equation} \n",
    "\n",
    "Štandardná odchýlka (<i>standard deviation</i>) $\\sigma$ je definovaná ako\n",
    "\n",
    "\\begin{equation}\n",
    "\\sigma = \\sqrt{Var[X]} \n",
    "\\end{equation}"
   ]
  },
  {
   "cell_type": "code",
   "execution_count": 5,
   "metadata": {},
   "outputs": [
    {
     "name": "stdout",
     "output_type": "stream",
     "text": [
      "      Variance = 3.02222222222\n",
      "Numpy Variance = 3.02222222222\n",
      "\n",
      "  Standard dev.= 1.73845397472\n",
      "Numpy std. dev.= 1.73845397472\n"
     ]
    }
   ],
   "source": [
    "# Priklad - Vypocet variancie a standardnej odchylky\n",
    "\n",
    "variance = sum(p*(x - mean)**2)\n",
    "\n",
    "print('      Variance =', variance)\n",
    "print('Numpy Variance =', np.var(X))    # standard numpy function var(x)\n",
    "\n",
    "std_dev = np.sqrt(variance)\n",
    "\n",
    "print()\n",
    "print('  Standard dev.=', std_dev)\n",
    "print('Numpy std. dev.=', np.std(X))    # standard numpy function std(x)"
   ]
  },
  {
   "cell_type": "markdown",
   "metadata": {},
   "source": [
    "Na základe vlastností operátora $E[X]$ môžeme odvodiť nasledujúce vzťahy\n",
    "\n",
    "\\begin{equation}\n",
    "E[c \\, X] = c \\, E[X]     \n",
    "\\end{equation}\n",
    "\n",
    "\\begin{equation}\n",
    "E[X + c]  = E[X] + c       \n",
    "\\end{equation}\n",
    "\n",
    "\\begin{equation}\n",
    "E[X + Y] = E[X] + E[Y]     \n",
    "\\end{equation}\n",
    "\n",
    "\\begin{equation}\n",
    "E[a X + b] = a \\, E[X] + b \n",
    "\\end{equation}\n",
    "\n",
    "\\begin{equation}\n",
    "E[(X-\\mu)^2] =  E[X^2 - 2 X \\mu + \\mu^2]= E[X^2] - 2 \\, E[X] \\, \\mu + \\mu^2] = E[X^2] - 2 \\mu^2 + \\mu^2 =  E[X^2] - \\mu^2 \n",
    "\\end{equation}\n",
    "\n",
    "\\begin{equation}\n",
    "Var[\\,c\\,] = 0 \\qquad (\\overline{c} = c, \\: c - \\overline{c} = 0)\n",
    "\\end{equation}\n",
    "\n",
    "\\begin{equation}\n",
    "Var[\\,a \\, X + c\\,] = a^2 \\, Var[X] \n",
    "\\end{equation}\n"
   ]
  },
  {
   "cell_type": "markdown",
   "metadata": {},
   "source": [
    "<b> Príklad - Hádzanie kocky </b>\n",
    "\n",
    "Pri hádzaní kocky môžu padnúť hodnoty $x= \\{1,2,3,4,5,6\\}$. Pri dostatočne veľkom počte pokusov,  zistíme, že pravdepodobnosť pre každú hodnotu $x_i$ je rovnaká a rovná  $p_i = 1/6 = 0.1666$.\n",
    "\n",
    "Pre strednú hodnotu $E[X]$ platí\n",
    "\n",
    "\\begin{equation*}\n",
    "E[X] = \\frac{1 + 2 +3 +4 +5 +6 }{6} = 3.5 \n",
    "\\end{equation*}\n",
    "\n",
    "Pre rozptyl $Var[X]$ platí\n",
    "\n",
    "\\begin{equation*}\n",
    "Var[X] = \\frac{(-2.5)^2 + (-1.5)^2 + (-0.5)^2 + 0.5^2 + 1.5^2 + 2.5^2 }{6} = 2.91 \n",
    "\\end{equation*}\n",
    "\n",
    "\n",
    "\n",
    "<i>Poznámka</i> \n",
    "\n",
    "Chuck Norris údajne dokázal pri nekonečnom počte hodov kockou hodiť samé šestky, sem tam aj sedmičku, pre takýto prípad platí rozdelenie pravdepodobnosti $p_{1 \\dots 5}=0$ , $p_6=1$ , $p_7 \\neq 0$, $m \\rightarrow \\infty$"
   ]
  },
  {
   "cell_type": "code",
   "execution_count": 6,
   "metadata": {},
   "outputs": [
    {
     "data": {
      "image/png": "[encoded data removed]",
      "text/plain": [
       "<matplotlib.figure.Figure at 0x7ff8685b69b0>"
      ]
     },
     "metadata": {},
     "output_type": "display_data"
    },
    {
     "name": "stdout",
     "output_type": "stream",
     "text": [
      "    Mean = 3.4939\n",
      "Variance = 2.91816279\n",
      "Std. dev.= 1.70826309156\n"
     ]
    }
   ],
   "source": [
    "# Simulacia hodu kockou\n",
    "m = 10000                    # pocet hodov kocky   \n",
    "p = []\n",
    "x = range(1,7)               # pole hodnot xi = 1...6\n",
    "X = randint(1, 7, size=m)    # nahodna premenna X, rovnomerne rozdelenie\n",
    "for xi in x:\n",
    "    p.append(sum(X==xi)/m)\n",
    "\n",
    "plt.stem(x,p)\n",
    "plt.grid()\n",
    "plt.xlim(0,7)\n",
    "plt.xlabel(r'$x_i$')\n",
    "plt.ylabel(r'$p_i$')\n",
    "plt.show()\n",
    "\n",
    "print('    Mean =', np.mean(X))\n",
    "print('Variance =', np.var(X))\n",
    "print('Std. dev.=', np.std(X))"
   ]
  },
  {
   "cell_type": "markdown",
   "metadata": {},
   "source": [
    "### Literatúra\n",
    "\n",
    "Dokumentácia k štatistickým funkciám Numpy\n",
    "\n",
    "https://docs.scipy.org/doc/numpy-1.14.0/reference/routines.statistics.html"
   ]
  }
 ],
 "metadata": {
  "kernelspec": {
   "display_name": "Python 3",
   "language": "python",
   "name": "python3"
  },
  "language_info": {
   "codemirror_mode": {
    "name": "ipython",
    "version": 3
   },
   "file_extension": ".py",
   "mimetype": "text/x-python",
   "name": "python",
   "nbconvert_exporter": "python",
   "pygments_lexer": "ipython3",
   "version": "3.5.2"
  }
 },
 "nbformat": 4,
 "nbformat_minor": 2
}
